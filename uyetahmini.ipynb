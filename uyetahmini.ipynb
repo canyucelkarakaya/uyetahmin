{
 "cells": [
  {
   "cell_type": "code",
   "execution_count": 1,
   "metadata": {},
   "outputs": [],
   "source": [
    "import pandas as pd\n",
    "from sklearn.linear_model import LinearRegression\n"
   ]
  },
  {
   "cell_type": "code",
   "execution_count": 5,
   "metadata": {},
   "outputs": [
    {
     "name": "stdout",
     "output_type": "stream",
     "text": [
      "2023 yılının 8. ayında tahmini kayıt sayısı: 406.86\n"
     ]
    },
    {
     "name": "stderr",
     "output_type": "stream",
     "text": [
      "c:\\Users\\yucel\\AppData\\Local\\Programs\\Python\\Python311\\Lib\\site-packages\\sklearn\\base.py:464: UserWarning: X does not have valid feature names, but LinearRegression was fitted with feature names\n",
      "  warnings.warn(\n"
     ]
    }
   ],
   "source": [
    "import pandas as pd\n",
    "from sklearn.linear_model import LinearRegression\n",
    "\n",
    "# Excel dosyasını okuma\n",
    "file_path = 'All_Users.xlsx'\n",
    "df = pd.read_excel(file_path)\n",
    "\n",
    "# Tarih sütunlarını datetime nesnelerine dönüştürme\n",
    "df['Register Date'] = pd.to_datetime(df['Register Date'])\n",
    "df['Suspended Date'] = pd.to_datetime(df['Suspended Date'])\n",
    "\n",
    "# Yıl ve ay sütunlarını oluşturma\n",
    "df['Year'] = df['Register Date'].dt.year\n",
    "df['Month'] = df['Register Date'].dt.month\n",
    "\n",
    "# Yıl ve ay bazında kayıt sayılarını hesaplama\n",
    "year_month_counts = df.groupby(['Year', 'Month']).size().reset_index(name='Count')\n",
    "\n",
    "# Tahmin için kullanılacak özellikler ve hedef\n",
    "X = year_month_counts[['Year', 'Month']]\n",
    "y = year_month_counts['Count']\n",
    "\n",
    "# Modeli oluşturma\n",
    "model = LinearRegression()\n",
    "\n",
    "# Modeli eğitme\n",
    "model.fit(X, y)\n",
    "\n",
    "# 2023 yılının 8. ayını tahmin etme\n",
    "predicted_count = model.predict([[2023, 8]])\n",
    "\n",
    "print(f\"2023 yılının 8. ayında tahmini kayıt sayısı: {predicted_count[0]:.2f}\")\n"
   ]
  },
  {
   "cell_type": "code",
   "execution_count": 6,
   "metadata": {},
   "outputs": [
    {
     "name": "stdout",
     "output_type": "stream",
     "text": [
      "2023 yılının 8. ayında tahmini kayıt sayısı: 415.79\n"
     ]
    },
    {
     "name": "stderr",
     "output_type": "stream",
     "text": [
      "c:\\Users\\yucel\\AppData\\Local\\Programs\\Python\\Python311\\Lib\\site-packages\\sklearn\\base.py:464: UserWarning: X does not have valid feature names, but LinearRegression was fitted with feature names\n",
      "  warnings.warn(\n"
     ]
    }
   ],
   "source": [
    "# 2023 yılının 8. ayını tahmin etme\n",
    "predicted_count = model.predict([[2023, 9]])\n",
    "\n",
    "print(f\"2023 yılının 8. ayında tahmini kayıt sayısı: {predicted_count[0]:.2f}\")"
   ]
  },
  {
   "cell_type": "code",
   "execution_count": 7,
   "metadata": {},
   "outputs": [
    {
     "name": "stdout",
     "output_type": "stream",
     "text": [
      "2023 yılının 8. ayında tahmini kayıt sayısı: 424.72\n"
     ]
    },
    {
     "name": "stderr",
     "output_type": "stream",
     "text": [
      "c:\\Users\\yucel\\AppData\\Local\\Programs\\Python\\Python311\\Lib\\site-packages\\sklearn\\base.py:464: UserWarning: X does not have valid feature names, but LinearRegression was fitted with feature names\n",
      "  warnings.warn(\n"
     ]
    }
   ],
   "source": [
    "# 2023 yılının 8. ayını tahmin etme\n",
    "predicted_count = model.predict([[2023, 10]])\n",
    "\n",
    "print(f\"2023 yılının 8. ayında tahmini kayıt sayısı: {predicted_count[0]:.2f}\")"
   ]
  },
  {
   "cell_type": "code",
   "execution_count": 8,
   "metadata": {},
   "outputs": [
    {
     "name": "stdout",
     "output_type": "stream",
     "text": [
      "2023 yılının 8. ayında tahmini kayıt sayısı: 433.66\n"
     ]
    },
    {
     "name": "stderr",
     "output_type": "stream",
     "text": [
      "c:\\Users\\yucel\\AppData\\Local\\Programs\\Python\\Python311\\Lib\\site-packages\\sklearn\\base.py:464: UserWarning: X does not have valid feature names, but LinearRegression was fitted with feature names\n",
      "  warnings.warn(\n"
     ]
    }
   ],
   "source": [
    "# 2023 yılının 8. ayını tahmin etme\n",
    "predicted_count = model.predict([[2023, 11]])\n",
    "\n",
    "print(f\"2023 yılının 8. ayında tahmini kayıt sayısı: {predicted_count[0]:.2f}\")"
   ]
  },
  {
   "cell_type": "code",
   "execution_count": 9,
   "metadata": {},
   "outputs": [
    {
     "name": "stdout",
     "output_type": "stream",
     "text": [
      "2023 yılının 8. ayında tahmini kayıt sayısı: 442.59\n"
     ]
    },
    {
     "name": "stderr",
     "output_type": "stream",
     "text": [
      "c:\\Users\\yucel\\AppData\\Local\\Programs\\Python\\Python311\\Lib\\site-packages\\sklearn\\base.py:464: UserWarning: X does not have valid feature names, but LinearRegression was fitted with feature names\n",
      "  warnings.warn(\n"
     ]
    }
   ],
   "source": [
    "# 2023 yılının 8. ayını tahmin etme\n",
    "predicted_count = model.predict([[2023, 12]])\n",
    "\n",
    "print(f\"2023 yılının 8. ayında tahmini kayıt sayısı: {predicted_count[0]:.2f}\")"
   ]
  }
 ],
 "metadata": {
  "kernelspec": {
   "display_name": "Python 3",
   "language": "python",
   "name": "python3"
  },
  "language_info": {
   "codemirror_mode": {
    "name": "ipython",
    "version": 3
   },
   "file_extension": ".py",
   "mimetype": "text/x-python",
   "name": "python",
   "nbconvert_exporter": "python",
   "pygments_lexer": "ipython3",
   "version": "3.11.4"
  },
  "orig_nbformat": 4
 },
 "nbformat": 4,
 "nbformat_minor": 2
}
